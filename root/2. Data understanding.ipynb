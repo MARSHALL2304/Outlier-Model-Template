{
 "cells": [
  {
   "cell_type": "markdown",
   "id": "8470ebad",
   "metadata": {},
   "source": [
    "---"
   ]
  },
  {
   "cell_type": "markdown",
   "id": "4a0adb03",
   "metadata": {},
   "source": [
    "# Phase 2. Data Understanding\n",
    "The data understanding phase starts with initial data collection and proceeds with activities that enable you to become familiar with the data, identify data quality problems, discover first insights into the data, and/or detect interesting subsets to form hypotheses."
   ]
  },
  {
   "cell_type": "markdown",
   "id": "33055654",
   "metadata": {},
   "source": [
    "## 2.1 Collect initial data\n",
    "### 2.1.1 Task\n",
    "Acquire the data (or access to the data) listed in the project resources. This initial collection includes data loading, if necessary for data understanding."
   ]
  },
  {
   "cell_type": "markdown",
   "id": "3d0c86ab",
   "metadata": {},
   "source": [
    "#### 2.1.1.1 Import Libraries\n",
    "Import python libraries containing the necessary functionality we will need."
   ]
  },
  {
   "cell_type": "code",
   "execution_count": 1,
   "id": "f176edc4",
   "metadata": {},
   "outputs": [],
   "source": [
    "import pandas as pd \n",
    "import numpy as np \n",
    "from scipy.stats import skew, kurtosis, iqr \n",
    "from datetime import datetime, timedelta \n",
    "import os \n",
    "import sys \n",
    "import time \n",
    "from math import radians, asin, sqrt, cos, sin\n",
    "\n",
    "import re"
   ]
  },
  {
   "cell_type": "markdown",
   "id": "cd3d91d8",
   "metadata": {},
   "source": [
    "#### 2.1.1.2 Load the data\n",
    "Establish the data location path"
   ]
  },
  {
   "cell_type": "code",
   "execution_count": 2,
   "id": "19d52117",
   "metadata": {},
   "outputs": [],
   "source": [
    "Data_Path = r'C:\\Users\\mjamesbreen\\OneDrive - KPMG\\Projects\\Santander\\fakedata'"
   ]
  },
  {
   "cell_type": "markdown",
   "id": "9c21690f",
   "metadata": {},
   "source": [
    "### 2.1.2 Output\n",
    "#### 2.1.2.1 Initial data collection report\n",
    "List the dataset(s) acquired, together with their locations, the methods used to acquire them, and any problems encountered (and how those problems were resolved)."
   ]
  },
  {
   "cell_type": "markdown",
   "id": "8029b26e",
   "metadata": {},
   "source": [
    "#### 2.1.2.2 customer geographic data for F11, 12, 21 "
   ]
  },
  {
   "cell_type": "code",
   "execution_count": 3,
   "id": "3474bb24",
   "metadata": {},
   "outputs": [],
   "source": [
    "df_cust_ll = pd.read_csv(os.path.join(Data_Path,r'FakeCustomerLocationData.csv'))"
   ]
  },
  {
   "cell_type": "markdown",
   "id": "77e4eb5e",
   "metadata": {},
   "source": [
    "#### 2.1.2.3 branch geographic data for F11, 12, 21"
   ]
  },
  {
   "cell_type": "code",
   "execution_count": 4,
   "id": "d430ad4b",
   "metadata": {},
   "outputs": [],
   "source": [
    "df_branch_11 = pd.read_csv(os.path.join(Data_Path,r'FakeBranchLocations.csv')) "
   ]
  },
  {
   "cell_type": "markdown",
   "id": "8acf6dea",
   "metadata": {},
   "source": [
    "#### 2.1.2.4 turnover data for F......"
   ]
  },
  {
   "cell_type": "code",
   "execution_count": 5,
   "id": "f5670ed3",
   "metadata": {},
   "outputs": [],
   "source": [
    "df_turnovers = pd.read_csv(os.path.join(Data_Path,r'FakeTurnoverData.csv'))"
   ]
  },
  {
   "cell_type": "markdown",
   "id": "6ae33e82",
   "metadata": {},
   "source": [
    "## 2.2 Describe data\n",
    "### 2.2.1 Task\n",
    "Examine the “gross” or “surface” properties of the acquired data and report on the results."
   ]
  },
  {
   "cell_type": "markdown",
   "id": "2d012d7f",
   "metadata": {},
   "source": [
    "### 2.2.2 Output\n",
    "#### 2.2.2.1 Data description report\n",
    "Describe the data that has been acquired, including the format of the data, the quantity of data (for example, the number of records and fields in each table), the identities of the fields, and any other surface features which have been discovered."
   ]
  },
  {
   "cell_type": "markdown",
   "id": "1bb73128",
   "metadata": {},
   "source": [
    "#### 2.2.2.2 Data description report - df_cust_ll"
   ]
  },
  {
   "cell_type": "code",
   "execution_count": 6,
   "id": "89e6f029",
   "metadata": {
    "scrolled": false
   },
   "outputs": [
    {
     "data": {
      "text/html": [
       "<div>\n",
       "<style scoped>\n",
       "    .dataframe tbody tr th:only-of-type {\n",
       "        vertical-align: middle;\n",
       "    }\n",
       "\n",
       "    .dataframe tbody tr th {\n",
       "        vertical-align: top;\n",
       "    }\n",
       "\n",
       "    .dataframe thead th {\n",
       "        text-align: right;\n",
       "    }\n",
       "</style>\n",
       "<table border=\"1\" class=\"dataframe\">\n",
       "  <thead>\n",
       "    <tr style=\"text-align: right;\">\n",
       "      <th></th>\n",
       "      <th>customer_source_unique_id</th>\n",
       "      <th>cust_lat</th>\n",
       "      <th>cust_long</th>\n",
       "    </tr>\n",
       "  </thead>\n",
       "  <tbody>\n",
       "    <tr>\n",
       "      <th>0</th>\n",
       "      <td>RUKJ1234567</td>\n",
       "      <td>51.503</td>\n",
       "      <td>-0.019</td>\n",
       "    </tr>\n",
       "  </tbody>\n",
       "</table>\n",
       "</div>"
      ],
      "text/plain": [
       "  customer_source_unique_id  cust_lat  cust_long\n",
       "0               RUKJ1234567    51.503     -0.019"
      ]
     },
     "execution_count": 6,
     "metadata": {},
     "output_type": "execute_result"
    }
   ],
   "source": [
    "df_cust_ll.head()"
   ]
  },
  {
   "cell_type": "code",
   "execution_count": 7,
   "id": "c0168ef1",
   "metadata": {},
   "outputs": [
    {
     "data": {
      "text/html": [
       "<div>\n",
       "<style scoped>\n",
       "    .dataframe tbody tr th:only-of-type {\n",
       "        vertical-align: middle;\n",
       "    }\n",
       "\n",
       "    .dataframe tbody tr th {\n",
       "        vertical-align: top;\n",
       "    }\n",
       "\n",
       "    .dataframe thead th {\n",
       "        text-align: right;\n",
       "    }\n",
       "</style>\n",
       "<table border=\"1\" class=\"dataframe\">\n",
       "  <thead>\n",
       "    <tr style=\"text-align: right;\">\n",
       "      <th></th>\n",
       "      <th>cust_lat</th>\n",
       "      <th>cust_long</th>\n",
       "    </tr>\n",
       "  </thead>\n",
       "  <tbody>\n",
       "    <tr>\n",
       "      <th>count</th>\n",
       "      <td>1.000</td>\n",
       "      <td>1.000</td>\n",
       "    </tr>\n",
       "    <tr>\n",
       "      <th>mean</th>\n",
       "      <td>51.503</td>\n",
       "      <td>-0.019</td>\n",
       "    </tr>\n",
       "    <tr>\n",
       "      <th>std</th>\n",
       "      <td>NaN</td>\n",
       "      <td>NaN</td>\n",
       "    </tr>\n",
       "    <tr>\n",
       "      <th>min</th>\n",
       "      <td>51.503</td>\n",
       "      <td>-0.019</td>\n",
       "    </tr>\n",
       "    <tr>\n",
       "      <th>25%</th>\n",
       "      <td>51.503</td>\n",
       "      <td>-0.019</td>\n",
       "    </tr>\n",
       "    <tr>\n",
       "      <th>50%</th>\n",
       "      <td>51.503</td>\n",
       "      <td>-0.019</td>\n",
       "    </tr>\n",
       "    <tr>\n",
       "      <th>75%</th>\n",
       "      <td>51.503</td>\n",
       "      <td>-0.019</td>\n",
       "    </tr>\n",
       "    <tr>\n",
       "      <th>max</th>\n",
       "      <td>51.503</td>\n",
       "      <td>-0.019</td>\n",
       "    </tr>\n",
       "  </tbody>\n",
       "</table>\n",
       "</div>"
      ],
      "text/plain": [
       "       cust_lat  cust_long\n",
       "count     1.000      1.000\n",
       "mean     51.503     -0.019\n",
       "std         NaN        NaN\n",
       "min      51.503     -0.019\n",
       "25%      51.503     -0.019\n",
       "50%      51.503     -0.019\n",
       "75%      51.503     -0.019\n",
       "max      51.503     -0.019"
      ]
     },
     "execution_count": 7,
     "metadata": {},
     "output_type": "execute_result"
    }
   ],
   "source": [
    "df_cust_ll.describe()"
   ]
  },
  {
   "cell_type": "code",
   "execution_count": 8,
   "id": "ecbf0f58",
   "metadata": {},
   "outputs": [
    {
     "name": "stdout",
     "output_type": "stream",
     "text": [
      "<class 'pandas.core.frame.DataFrame'>\n",
      "RangeIndex: 1 entries, 0 to 0\n",
      "Data columns (total 3 columns):\n",
      " #   Column                     Non-Null Count  Dtype  \n",
      "---  ------                     --------------  -----  \n",
      " 0   customer_source_unique_id  1 non-null      object \n",
      " 1   cust_lat                   1 non-null      float64\n",
      " 2   cust_long                  1 non-null      float64\n",
      "dtypes: float64(2), object(1)\n",
      "memory usage: 152.0+ bytes\n"
     ]
    }
   ],
   "source": [
    "df_cust_ll.info()"
   ]
  },
  {
   "cell_type": "markdown",
   "id": "90b4c75b",
   "metadata": {},
   "source": [
    "#### 2.2.2.3 Data description report - df_branch_11"
   ]
  },
  {
   "cell_type": "code",
   "execution_count": 9,
   "id": "9fec1467",
   "metadata": {
    "scrolled": true
   },
   "outputs": [
    {
     "data": {
      "text/html": [
       "<div>\n",
       "<style scoped>\n",
       "    .dataframe tbody tr th:only-of-type {\n",
       "        vertical-align: middle;\n",
       "    }\n",
       "\n",
       "    .dataframe tbody tr th {\n",
       "        vertical-align: top;\n",
       "    }\n",
       "\n",
       "    .dataframe thead th {\n",
       "        text-align: right;\n",
       "    }\n",
       "</style>\n",
       "<table border=\"1\" class=\"dataframe\">\n",
       "  <thead>\n",
       "    <tr style=\"text-align: right;\">\n",
       "      <th></th>\n",
       "      <th>centre_code</th>\n",
       "      <th>latitude</th>\n",
       "      <th>longitude</th>\n",
       "    </tr>\n",
       "  </thead>\n",
       "  <tbody>\n",
       "    <tr>\n",
       "      <th>0</th>\n",
       "      <td>1234</td>\n",
       "      <td>51.495</td>\n",
       "      <td>-0.182</td>\n",
       "    </tr>\n",
       "    <tr>\n",
       "      <th>1</th>\n",
       "      <td>4321</td>\n",
       "      <td>51.279</td>\n",
       "      <td>1.080</td>\n",
       "    </tr>\n",
       "    <tr>\n",
       "      <th>2</th>\n",
       "      <td>5678</td>\n",
       "      <td>51.912</td>\n",
       "      <td>0.919</td>\n",
       "    </tr>\n",
       "    <tr>\n",
       "      <th>3</th>\n",
       "      <td>9876</td>\n",
       "      <td>53.685</td>\n",
       "      <td>-1.494</td>\n",
       "    </tr>\n",
       "    <tr>\n",
       "      <th>4</th>\n",
       "      <td>1010</td>\n",
       "      <td>53.502</td>\n",
       "      <td>-2.157</td>\n",
       "    </tr>\n",
       "  </tbody>\n",
       "</table>\n",
       "</div>"
      ],
      "text/plain": [
       "   centre_code  latitude  longitude\n",
       "0         1234    51.495     -0.182\n",
       "1         4321    51.279      1.080\n",
       "2         5678    51.912      0.919\n",
       "3         9876    53.685     -1.494\n",
       "4         1010    53.502     -2.157"
      ]
     },
     "execution_count": 9,
     "metadata": {},
     "output_type": "execute_result"
    }
   ],
   "source": [
    "df_branch_11.head()"
   ]
  },
  {
   "cell_type": "code",
   "execution_count": 10,
   "id": "b77de89e",
   "metadata": {
    "scrolled": true
   },
   "outputs": [
    {
     "data": {
      "text/html": [
       "<div>\n",
       "<style scoped>\n",
       "    .dataframe tbody tr th:only-of-type {\n",
       "        vertical-align: middle;\n",
       "    }\n",
       "\n",
       "    .dataframe tbody tr th {\n",
       "        vertical-align: top;\n",
       "    }\n",
       "\n",
       "    .dataframe thead th {\n",
       "        text-align: right;\n",
       "    }\n",
       "</style>\n",
       "<table border=\"1\" class=\"dataframe\">\n",
       "  <thead>\n",
       "    <tr style=\"text-align: right;\">\n",
       "      <th></th>\n",
       "      <th>centre_code</th>\n",
       "      <th>latitude</th>\n",
       "      <th>longitude</th>\n",
       "    </tr>\n",
       "  </thead>\n",
       "  <tbody>\n",
       "    <tr>\n",
       "      <th>count</th>\n",
       "      <td>5.00000</td>\n",
       "      <td>5.000000</td>\n",
       "      <td>5.000000</td>\n",
       "    </tr>\n",
       "    <tr>\n",
       "      <th>mean</th>\n",
       "      <td>4423.80000</td>\n",
       "      <td>52.374600</td>\n",
       "      <td>-0.366800</td>\n",
       "    </tr>\n",
       "    <tr>\n",
       "      <th>std</th>\n",
       "      <td>3644.82252</td>\n",
       "      <td>1.137565</td>\n",
       "      <td>1.436668</td>\n",
       "    </tr>\n",
       "    <tr>\n",
       "      <th>min</th>\n",
       "      <td>1010.00000</td>\n",
       "      <td>51.279000</td>\n",
       "      <td>-2.157000</td>\n",
       "    </tr>\n",
       "    <tr>\n",
       "      <th>25%</th>\n",
       "      <td>1234.00000</td>\n",
       "      <td>51.495000</td>\n",
       "      <td>-1.494000</td>\n",
       "    </tr>\n",
       "    <tr>\n",
       "      <th>50%</th>\n",
       "      <td>4321.00000</td>\n",
       "      <td>51.912000</td>\n",
       "      <td>-0.182000</td>\n",
       "    </tr>\n",
       "    <tr>\n",
       "      <th>75%</th>\n",
       "      <td>5678.00000</td>\n",
       "      <td>53.502000</td>\n",
       "      <td>0.919000</td>\n",
       "    </tr>\n",
       "    <tr>\n",
       "      <th>max</th>\n",
       "      <td>9876.00000</td>\n",
       "      <td>53.685000</td>\n",
       "      <td>1.080000</td>\n",
       "    </tr>\n",
       "  </tbody>\n",
       "</table>\n",
       "</div>"
      ],
      "text/plain": [
       "       centre_code   latitude  longitude\n",
       "count      5.00000   5.000000   5.000000\n",
       "mean    4423.80000  52.374600  -0.366800\n",
       "std     3644.82252   1.137565   1.436668\n",
       "min     1010.00000  51.279000  -2.157000\n",
       "25%     1234.00000  51.495000  -1.494000\n",
       "50%     4321.00000  51.912000  -0.182000\n",
       "75%     5678.00000  53.502000   0.919000\n",
       "max     9876.00000  53.685000   1.080000"
      ]
     },
     "execution_count": 10,
     "metadata": {},
     "output_type": "execute_result"
    }
   ],
   "source": [
    "df_branch_11.describe()"
   ]
  },
  {
   "cell_type": "code",
   "execution_count": 11,
   "id": "bcb53248",
   "metadata": {
    "scrolled": false
   },
   "outputs": [
    {
     "name": "stdout",
     "output_type": "stream",
     "text": [
      "<class 'pandas.core.frame.DataFrame'>\n",
      "RangeIndex: 5 entries, 0 to 4\n",
      "Data columns (total 3 columns):\n",
      " #   Column       Non-Null Count  Dtype  \n",
      "---  ------       --------------  -----  \n",
      " 0   centre_code  5 non-null      int64  \n",
      " 1   latitude     5 non-null      float64\n",
      " 2   longitude    5 non-null      float64\n",
      "dtypes: float64(2), int64(1)\n",
      "memory usage: 248.0 bytes\n"
     ]
    }
   ],
   "source": [
    "df_branch_11.info()"
   ]
  },
  {
   "cell_type": "markdown",
   "id": "1e858514",
   "metadata": {},
   "source": [
    "### converted centre_code to string (from int)"
   ]
  },
  {
   "cell_type": "code",
   "execution_count": 12,
   "id": "62360028",
   "metadata": {},
   "outputs": [],
   "source": [
    "df_branch_11['centre_code'] = df_branch_11['centre_code'].astype(str)"
   ]
  },
  {
   "cell_type": "code",
   "execution_count": 13,
   "id": "cdabea14",
   "metadata": {},
   "outputs": [
    {
     "name": "stdout",
     "output_type": "stream",
     "text": [
      "<class 'pandas.core.frame.DataFrame'>\n",
      "RangeIndex: 5 entries, 0 to 4\n",
      "Data columns (total 3 columns):\n",
      " #   Column       Non-Null Count  Dtype  \n",
      "---  ------       --------------  -----  \n",
      " 0   centre_code  5 non-null      object \n",
      " 1   latitude     5 non-null      float64\n",
      " 2   longitude    5 non-null      float64\n",
      "dtypes: float64(2), object(1)\n",
      "memory usage: 248.0+ bytes\n"
     ]
    }
   ],
   "source": [
    "df_branch_11.info()"
   ]
  },
  {
   "cell_type": "code",
   "execution_count": 14,
   "id": "2acee731",
   "metadata": {
    "scrolled": true
   },
   "outputs": [
    {
     "data": {
      "text/html": [
       "<div>\n",
       "<style scoped>\n",
       "    .dataframe tbody tr th:only-of-type {\n",
       "        vertical-align: middle;\n",
       "    }\n",
       "\n",
       "    .dataframe tbody tr th {\n",
       "        vertical-align: top;\n",
       "    }\n",
       "\n",
       "    .dataframe thead th {\n",
       "        text-align: right;\n",
       "    }\n",
       "</style>\n",
       "<table border=\"1\" class=\"dataframe\">\n",
       "  <thead>\n",
       "    <tr style=\"text-align: right;\">\n",
       "      <th></th>\n",
       "      <th>latitude</th>\n",
       "      <th>longitude</th>\n",
       "    </tr>\n",
       "  </thead>\n",
       "  <tbody>\n",
       "    <tr>\n",
       "      <th>count</th>\n",
       "      <td>5.000000</td>\n",
       "      <td>5.000000</td>\n",
       "    </tr>\n",
       "    <tr>\n",
       "      <th>mean</th>\n",
       "      <td>52.374600</td>\n",
       "      <td>-0.366800</td>\n",
       "    </tr>\n",
       "    <tr>\n",
       "      <th>std</th>\n",
       "      <td>1.137565</td>\n",
       "      <td>1.436668</td>\n",
       "    </tr>\n",
       "    <tr>\n",
       "      <th>min</th>\n",
       "      <td>51.279000</td>\n",
       "      <td>-2.157000</td>\n",
       "    </tr>\n",
       "    <tr>\n",
       "      <th>25%</th>\n",
       "      <td>51.495000</td>\n",
       "      <td>-1.494000</td>\n",
       "    </tr>\n",
       "    <tr>\n",
       "      <th>50%</th>\n",
       "      <td>51.912000</td>\n",
       "      <td>-0.182000</td>\n",
       "    </tr>\n",
       "    <tr>\n",
       "      <th>75%</th>\n",
       "      <td>53.502000</td>\n",
       "      <td>0.919000</td>\n",
       "    </tr>\n",
       "    <tr>\n",
       "      <th>max</th>\n",
       "      <td>53.685000</td>\n",
       "      <td>1.080000</td>\n",
       "    </tr>\n",
       "  </tbody>\n",
       "</table>\n",
       "</div>"
      ],
      "text/plain": [
       "        latitude  longitude\n",
       "count   5.000000   5.000000\n",
       "mean   52.374600  -0.366800\n",
       "std     1.137565   1.436668\n",
       "min    51.279000  -2.157000\n",
       "25%    51.495000  -1.494000\n",
       "50%    51.912000  -0.182000\n",
       "75%    53.502000   0.919000\n",
       "max    53.685000   1.080000"
      ]
     },
     "execution_count": 14,
     "metadata": {},
     "output_type": "execute_result"
    }
   ],
   "source": [
    "df_branch_11.describe()"
   ]
  },
  {
   "cell_type": "markdown",
   "id": "7ce73678",
   "metadata": {},
   "source": [
    "#### 2.2.2.4 Data description report - df_turnovers"
   ]
  },
  {
   "cell_type": "code",
   "execution_count": 15,
   "id": "edb904d1",
   "metadata": {
    "scrolled": true
   },
   "outputs": [
    {
     "data": {
      "text/html": [
       "<div>\n",
       "<style scoped>\n",
       "    .dataframe tbody tr th:only-of-type {\n",
       "        vertical-align: middle;\n",
       "    }\n",
       "\n",
       "    .dataframe tbody tr th {\n",
       "        vertical-align: top;\n",
       "    }\n",
       "\n",
       "    .dataframe thead th {\n",
       "        text-align: right;\n",
       "    }\n",
       "</style>\n",
       "<table border=\"1\" class=\"dataframe\">\n",
       "  <thead>\n",
       "    <tr style=\"text-align: right;\">\n",
       "      <th></th>\n",
       "      <th>cust_id</th>\n",
       "      <th>credit_turnover_12</th>\n",
       "      <th>credit_turnover_24</th>\n",
       "      <th>debit_turnover_12</th>\n",
       "      <th>debit_turnover_24</th>\n",
       "    </tr>\n",
       "  </thead>\n",
       "  <tbody>\n",
       "    <tr>\n",
       "      <th>0</th>\n",
       "      <td>RUKJ1234567</td>\n",
       "      <td>180000</td>\n",
       "      <td>190000</td>\n",
       "      <td>90000</td>\n",
       "      <td>80000</td>\n",
       "    </tr>\n",
       "  </tbody>\n",
       "</table>\n",
       "</div>"
      ],
      "text/plain": [
       "       cust_id  credit_turnover_12  credit_turnover_24  debit_turnover_12  \\\n",
       "0  RUKJ1234567              180000              190000              90000   \n",
       "\n",
       "   debit_turnover_24  \n",
       "0              80000  "
      ]
     },
     "execution_count": 15,
     "metadata": {},
     "output_type": "execute_result"
    }
   ],
   "source": [
    "df_turnovers.head()"
   ]
  },
  {
   "cell_type": "code",
   "execution_count": 16,
   "id": "c60b32b4",
   "metadata": {
    "scrolled": true
   },
   "outputs": [
    {
     "data": {
      "text/html": [
       "<div>\n",
       "<style scoped>\n",
       "    .dataframe tbody tr th:only-of-type {\n",
       "        vertical-align: middle;\n",
       "    }\n",
       "\n",
       "    .dataframe tbody tr th {\n",
       "        vertical-align: top;\n",
       "    }\n",
       "\n",
       "    .dataframe thead th {\n",
       "        text-align: right;\n",
       "    }\n",
       "</style>\n",
       "<table border=\"1\" class=\"dataframe\">\n",
       "  <thead>\n",
       "    <tr style=\"text-align: right;\">\n",
       "      <th></th>\n",
       "      <th>credit_turnover_12</th>\n",
       "      <th>credit_turnover_24</th>\n",
       "      <th>debit_turnover_12</th>\n",
       "      <th>debit_turnover_24</th>\n",
       "    </tr>\n",
       "  </thead>\n",
       "  <tbody>\n",
       "    <tr>\n",
       "      <th>count</th>\n",
       "      <td>1.0</td>\n",
       "      <td>1.0</td>\n",
       "      <td>1.0</td>\n",
       "      <td>1.0</td>\n",
       "    </tr>\n",
       "    <tr>\n",
       "      <th>mean</th>\n",
       "      <td>180000.0</td>\n",
       "      <td>190000.0</td>\n",
       "      <td>90000.0</td>\n",
       "      <td>80000.0</td>\n",
       "    </tr>\n",
       "    <tr>\n",
       "      <th>std</th>\n",
       "      <td>NaN</td>\n",
       "      <td>NaN</td>\n",
       "      <td>NaN</td>\n",
       "      <td>NaN</td>\n",
       "    </tr>\n",
       "    <tr>\n",
       "      <th>min</th>\n",
       "      <td>180000.0</td>\n",
       "      <td>190000.0</td>\n",
       "      <td>90000.0</td>\n",
       "      <td>80000.0</td>\n",
       "    </tr>\n",
       "    <tr>\n",
       "      <th>25%</th>\n",
       "      <td>180000.0</td>\n",
       "      <td>190000.0</td>\n",
       "      <td>90000.0</td>\n",
       "      <td>80000.0</td>\n",
       "    </tr>\n",
       "    <tr>\n",
       "      <th>50%</th>\n",
       "      <td>180000.0</td>\n",
       "      <td>190000.0</td>\n",
       "      <td>90000.0</td>\n",
       "      <td>80000.0</td>\n",
       "    </tr>\n",
       "    <tr>\n",
       "      <th>75%</th>\n",
       "      <td>180000.0</td>\n",
       "      <td>190000.0</td>\n",
       "      <td>90000.0</td>\n",
       "      <td>80000.0</td>\n",
       "    </tr>\n",
       "    <tr>\n",
       "      <th>max</th>\n",
       "      <td>180000.0</td>\n",
       "      <td>190000.0</td>\n",
       "      <td>90000.0</td>\n",
       "      <td>80000.0</td>\n",
       "    </tr>\n",
       "  </tbody>\n",
       "</table>\n",
       "</div>"
      ],
      "text/plain": [
       "       credit_turnover_12  credit_turnover_24  debit_turnover_12  \\\n",
       "count                 1.0                 1.0                1.0   \n",
       "mean             180000.0            190000.0            90000.0   \n",
       "std                   NaN                 NaN                NaN   \n",
       "min              180000.0            190000.0            90000.0   \n",
       "25%              180000.0            190000.0            90000.0   \n",
       "50%              180000.0            190000.0            90000.0   \n",
       "75%              180000.0            190000.0            90000.0   \n",
       "max              180000.0            190000.0            90000.0   \n",
       "\n",
       "       debit_turnover_24  \n",
       "count                1.0  \n",
       "mean             80000.0  \n",
       "std                  NaN  \n",
       "min              80000.0  \n",
       "25%              80000.0  \n",
       "50%              80000.0  \n",
       "75%              80000.0  \n",
       "max              80000.0  "
      ]
     },
     "execution_count": 16,
     "metadata": {},
     "output_type": "execute_result"
    }
   ],
   "source": [
    "df_turnovers.describe()"
   ]
  },
  {
   "cell_type": "code",
   "execution_count": 17,
   "id": "44ae0eba",
   "metadata": {
    "scrolled": false
   },
   "outputs": [
    {
     "name": "stdout",
     "output_type": "stream",
     "text": [
      "<class 'pandas.core.frame.DataFrame'>\n",
      "RangeIndex: 1 entries, 0 to 0\n",
      "Data columns (total 5 columns):\n",
      " #   Column              Non-Null Count  Dtype \n",
      "---  ------              --------------  ----- \n",
      " 0   cust_id             1 non-null      object\n",
      " 1   credit_turnover_12  1 non-null      int64 \n",
      " 2   credit_turnover_24  1 non-null      int64 \n",
      " 3   debit_turnover_12   1 non-null      int64 \n",
      " 4   debit_turnover_24   1 non-null      int64 \n",
      "dtypes: int64(4), object(1)\n",
      "memory usage: 168.0+ bytes\n"
     ]
    }
   ],
   "source": [
    "df_turnovers.info()"
   ]
  },
  {
   "cell_type": "markdown",
   "id": "33269e67",
   "metadata": {},
   "source": [
    "## 2.3 Explore data\n",
    "### 2.3.1 Task\n",
    "This task addresses data mining questions using querying, visualization, and reporting techniques. These include distribution of key attributes (for example, the target attribute of a prediction task) relationships between pairs or small numbers of attributes, results of simple aggregations, properties of significant sub-populations, and simple statistical analyses."
   ]
  },
  {
   "cell_type": "markdown",
   "id": "12cfa851",
   "metadata": {},
   "source": [
    "### 2.3.2 Output\n",
    "Describe results of this task, including first findings or initial hypothesis and their impact on the remainder of the project."
   ]
  },
  {
   "cell_type": "markdown",
   "id": "0fc6edad",
   "metadata": {},
   "source": [
    "## 2.4 Verify data quality\n",
    "### 2.4.1 Task\n",
    "Examine the quality of the data, addressing questions such as: Is the data complete (does it cover all the cases required)? Is it correct, or does it contain errors and, if there are errors, how common are they?\n"
   ]
  },
  {
   "cell_type": "markdown",
   "id": "b2a70afe",
   "metadata": {},
   "source": [
    "### 2.4.2 Output\n",
    "#### 2.4.2.1 Data exploration report\n",
    "List the results of the data quality verification; if quality problems exist, list possible solutions."
   ]
  },
  {
   "cell_type": "markdown",
   "id": "dfdb09df",
   "metadata": {},
   "source": [
    "---"
   ]
  }
 ],
 "metadata": {
  "kernelspec": {
   "display_name": "Python 3 (ipykernel)",
   "language": "python",
   "name": "python3"
  },
  "language_info": {
   "codemirror_mode": {
    "name": "ipython",
    "version": 3
   },
   "file_extension": ".py",
   "mimetype": "text/x-python",
   "name": "python",
   "nbconvert_exporter": "python",
   "pygments_lexer": "ipython3",
   "version": "3.9.13"
  }
 },
 "nbformat": 4,
 "nbformat_minor": 5
}
